{
 "cells": [
  {
   "cell_type": "code",
   "execution_count": 7,
   "metadata": {},
   "outputs": [],
   "source": [
    "import os\n",
    "import io\n",
    "import textwrap\n",
    "import re\n",
    "import requests\n",
    "from pypdf import PdfReader\n",
    "from pdfminer.high_level import extract_text"
   ]
  },
  {
   "cell_type": "code",
   "execution_count": 99,
   "metadata": {},
   "outputs": [],
   "source": [
    "class PO_num_extracter:\n",
    "    \n",
    "    def __init__(self,pdf_path_or_url : str):\n",
    "        self.pdf_path_or_url = pdf_path_or_url\n",
    "    \n",
    "    def log(self,message:str,success_flag=True):\n",
    "        if success_flag: print(f\"\\n\\n###################   {message}   ###################\")\n",
    "        else: print(f\"!!!!!!!!!!!!!!!!!!   {message}   !!!!!!!!!!!!!!!!!!!!\") \n",
    "        \n",
    "    def format_text(self, raw_text: str):\n",
    "        formatted_text = ' '.join(raw_text.split())\n",
    "        formatted_text = ''.join(char if char.isalnum() or char.isspace() else ' ' for char in formatted_text)\n",
    "        sections = formatted_text.split('   ')\n",
    "        formatted_text = ' '.join(section.strip() for section in sections if section.strip())\n",
    "        return formatted_text.strip()\n",
    "    \n",
    "    def download_pdf(self):\n",
    "        if self.pdf_path_or_url.startswith(\"http\"):\n",
    "            response = requests.get(self.pdf_path_or_url)\n",
    "            if response.status_code == 200:\n",
    "                return response.content\n",
    "            else:\n",
    "                raise ValueError(f\"Failed to download PDF from {self.pdf_path_or_url}\")\n",
    "        else:\n",
    "            with open(self.pdf_path_or_url, 'rb') as f:\n",
    "                return f.read()\n",
    "            \n",
    "    def extract_data(self):\n",
    "    \n",
    "        pdf_data = self.download_pdf()\n",
    "        \n",
    "        reader = PdfReader(io.BytesIO(pdf_data))\n",
    "        text = ''.join([page.extract_text() for page in reader.pages])\n",
    "        self.wrapped_text = textwrap.fill(text, width=120)\n",
    "        \n",
    "        self.text = extract_text(self.pdf_path_or_url)\n",
    "        \n",
    "        return [self.wrapped_text,self.text]\n",
    "    \n",
    "    def extract_invoice_number(self,text: str):\n",
    "        \n",
    "        invoice_numbers = re.findall(r'\\b\\d{5}\\b', text)\n",
    "        if invoice_numbers: return invoice_numbers\n",
    "        else:\n",
    "            pattern = r'(?:invoice\\s*(?:no(?:\\.|:)?|number|num)?\\s*:?)(\\d{5})'\n",
    "            invoice_numbers = re.search(pattern, text, re.IGNORECASE)\n",
    "            if invoice_numbers:\n",
    "                return invoice_numbers.group()\n",
    "            else:\n",
    "                return\n",
    "    \n",
    "    def main(self):\n",
    "        texts = self.extract_data()\n",
    "        invoice_numbers = []\n",
    "        # print(texts[0])\n",
    "        for text in texts:\n",
    "            if self.extract_invoice_number(text):\n",
    "                invoice_numbers.append(self.extract_invoice_number(text)[0])\n",
    "                \n",
    "        return invoice_numbers[0] if invoice_numbers else None\n",
    "    "
   ]
  },
  {
   "cell_type": "code",
   "execution_count": 100,
   "metadata": {},
   "outputs": [
    {
     "name": "stdout",
     "output_type": "stream",
     "text": [
      "Invoice number : 12345\n",
      "Runtime: 0.082 seconds\n"
     ]
    }
   ],
   "source": [
    "import time\n",
    "\n",
    "# Your code to measure runtime\n",
    "start_time = time.time()\n",
    "\n",
    "obj = PO_num_extracter(r\"E:\\Projects\\SA - R&D\\invoice-sample-2.pdf\")\n",
    "print(\"Invoice number :\",obj.main())\n",
    "\n",
    "end_time = time.time()\n",
    "\n",
    "# Calculate runtime\n",
    "runtime = end_time - start_time\n",
    "print(\"Runtime:\", str(runtime)[:5], \"seconds\")"
   ]
  },
  {
   "cell_type": "code",
   "execution_count": null,
   "metadata": {},
   "outputs": [],
   "source": []
  }
 ],
 "metadata": {
  "kernelspec": {
   "display_name": "Python 3",
   "language": "python",
   "name": "python3"
  },
  "language_info": {
   "codemirror_mode": {
    "name": "ipython",
    "version": 3
   },
   "file_extension": ".py",
   "mimetype": "text/x-python",
   "name": "python",
   "nbconvert_exporter": "python",
   "pygments_lexer": "ipython3",
   "version": "3.12.0"
  }
 },
 "nbformat": 4,
 "nbformat_minor": 2
}
